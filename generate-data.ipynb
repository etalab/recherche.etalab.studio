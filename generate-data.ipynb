{
 "cells": [
  {
   "cell_type": "code",
   "execution_count": 1,
   "metadata": {},
   "outputs": [],
   "source": [
    "from run import generate_data"
   ]
  },
  {
   "cell_type": "code",
   "execution_count": 3,
   "metadata": {},
   "outputs": [
    {
     "name": "stdout",
     "output_type": "stream",
     "text": [
      "Fetching playlist Suivi des sorties - Décembre 2019\n",
      "Progress: ====================================================================================================== 100.00% (10/10)\n",
      "Fetching playlist Suivi des sorties - Novembre 2019\n",
      "Progress: ====================================================================================================== 100.00% (15/15)\n",
      "Fetching playlist SPD\n",
      "Progress: ======================================================================================================== 100.00% (9/9)\n",
      "Fetching playlist Top 100 des jeux de données en 2019\n",
      "Progress: ==================================================================================================== 100.00% (102/102)\n",
      "Fetching statistics\n",
      "Progress: ==================================================================================================== 100.00% (107/107)\n",
      "63 datasets updated from Matomo\n",
      "Writing 107 datasets to datasets.json\n"
     ]
    }
   ],
   "source": [
    "await generate_data()"
   ]
  },
  {
   "cell_type": "code",
   "execution_count": null,
   "metadata": {},
   "outputs": [],
   "source": []
  },
  {
   "cell_type": "code",
   "execution_count": null,
   "metadata": {},
   "outputs": [],
   "source": []
  }
 ],
 "metadata": {
  "kernelspec": {
   "display_name": "Python 3",
   "language": "python",
   "name": "python3"
  },
  "language_info": {
   "codemirror_mode": {
    "name": "ipython",
    "version": 3
   },
   "file_extension": ".py",
   "mimetype": "text/x-python",
   "name": "python",
   "nbconvert_exporter": "python",
   "pygments_lexer": "ipython3",
   "version": "3.7.6"
  }
 },
 "nbformat": 4,
 "nbformat_minor": 4
}
